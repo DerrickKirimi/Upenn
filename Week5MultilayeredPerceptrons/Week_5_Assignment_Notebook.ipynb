{
 "cells": [
  {
   "cell_type": "code",
   "execution_count": 1,
   "id": "8cb93148",
   "metadata": {},
   "outputs": [
    {
     "name": "stdout",
     "output_type": "stream",
     "text": [
      "(28, 28, 18724)\n",
      "(18724, 784)\n",
      "(18724, 10)\n"
     ]
    },
    {
     "data": {
      "text/plain": [
       "array([0.        , 0.00392157, 0.        , 0.        , 0.        ,\n",
       "       0.        , 0.        , 0.        , 0.        , 0.        ,\n",
       "       0.03137255, 0.16078432, 0.38039216, 0.6509804 , 0.87058824,\n",
       "       0.9764706 , 0.90588236, 0.6627451 , 0.4       , 0.11764706,\n",
       "       0.        , 0.00784314, 0.        , 0.        , 0.        ,\n",
       "       0.        , 0.        , 0.        , 0.        , 0.07450981,\n",
       "       0.3647059 , 0.44313726, 0.42745098, 0.4627451 , 0.5019608 ,\n",
       "       0.54509807, 0.6392157 , 0.77254903, 0.8627451 , 0.9607843 ,\n",
       "       1.        , 1.        , 1.        , 1.        , 1.        ,\n",
       "       0.99607843, 1.        , 0.94509804, 0.42352942, 0.        ,\n",
       "       0.00392157, 0.        , 0.        , 0.        , 0.        ,\n",
       "       0.        , 0.01176471, 0.654902  , 1.        , 0.9843137 ,\n",
       "       1.        , 1.        , 1.        , 1.        , 1.        ,\n",
       "       1.        , 1.        , 0.99607843, 0.98039216, 0.972549  ,\n",
       "       0.99215686, 1.        , 0.99607843, 0.9882353 , 0.99215686,\n",
       "       0.99215686, 1.        , 0.21568628, 0.        , 0.00784314,\n",
       "       0.        , 0.        , 0.        , 0.        , 0.05882353,\n",
       "       0.7529412 , 1.        , 0.98039216, 0.9764706 , 0.96862745,\n",
       "       0.96862745, 0.98039216, 0.99607843, 1.        , 1.        ,\n",
       "       1.        , 1.        , 1.        , 0.99607843, 1.        ,\n",
       "       1.        , 1.        , 1.        , 0.9843137 , 1.        ,\n",
       "       0.5372549 , 0.        , 0.00392157, 0.        , 0.        ,\n",
       "       0.        , 0.        , 0.        , 0.18039216, 0.74509805,\n",
       "       0.96862745, 1.        , 1.        , 1.        , 1.        ,\n",
       "       0.98039216, 0.9372549 , 0.85882354, 0.76862746, 0.6666667 ,\n",
       "       0.6627451 , 0.9372549 , 1.        , 0.99607843, 1.        ,\n",
       "       1.        , 0.99607843, 1.        , 0.85882354, 0.00392157,\n",
       "       0.        , 0.        , 0.        , 0.        , 0.        ,\n",
       "       0.        , 0.        , 0.        , 0.1254902 , 0.2784314 ,\n",
       "       0.3372549 , 0.3372549 , 0.24705882, 0.15294118, 0.07058824,\n",
       "       0.01960784, 0.        , 0.01568628, 0.        , 0.3764706 ,\n",
       "       1.        , 1.        , 0.99607843, 1.        , 1.        ,\n",
       "       1.        , 0.9764706 , 0.24705882, 0.        , 0.00784314,\n",
       "       0.        , 0.        , 0.        , 0.        , 0.00784314,\n",
       "       0.00392157, 0.        , 0.        , 0.        , 0.        ,\n",
       "       0.        , 0.        , 0.        , 0.        , 0.00392157,\n",
       "       0.01176471, 0.01568628, 0.        , 0.8117647 , 1.        ,\n",
       "       0.99607843, 1.        , 1.        , 0.99215686, 1.        ,\n",
       "       0.58431375, 0.        , 0.01568628, 0.        , 0.        ,\n",
       "       0.        , 0.        , 0.        , 0.00392157, 0.00392157,\n",
       "       0.01176471, 0.01568628, 0.01568628, 0.01176471, 0.00784314,\n",
       "       0.00392157, 0.00392157, 0.        , 0.        , 0.00784314,\n",
       "       0.        , 0.45882353, 1.        , 0.99607843, 1.        ,\n",
       "       1.        , 0.9882353 , 1.        , 0.8       , 0.03137255,\n",
       "       0.        , 0.00392157, 0.        , 0.        , 0.        ,\n",
       "       0.        , 0.        , 0.        , 0.        , 0.        ,\n",
       "       0.        , 0.        , 0.        , 0.        , 0.        ,\n",
       "       0.        , 0.        , 0.00392157, 0.        , 0.13725491,\n",
       "       0.9882353 , 1.        , 1.        , 1.        , 0.99607843,\n",
       "       1.        , 0.9764706 , 0.2901961 , 0.        , 0.01568628,\n",
       "       0.        , 0.        , 0.        , 0.        , 0.        ,\n",
       "       0.        , 0.        , 0.        , 0.        , 0.        ,\n",
       "       0.        , 0.        , 0.        , 0.        , 0.        ,\n",
       "       0.00392157, 0.        , 0.01960784, 0.6901961 , 1.        ,\n",
       "       0.9882353 , 1.        , 1.        , 0.98039216, 1.        ,\n",
       "       0.52156866, 0.        , 0.01568628, 0.        , 0.        ,\n",
       "       0.        , 0.        , 0.        , 0.        , 0.        ,\n",
       "       0.        , 0.        , 0.        , 0.        , 0.        ,\n",
       "       0.        , 0.        , 0.        , 0.        , 0.01176471,\n",
       "       0.        , 0.36862746, 1.        , 0.9843137 , 1.        ,\n",
       "       1.        , 0.9882353 , 1.        , 0.8       , 0.07450981,\n",
       "       0.        , 0.00392157, 0.        , 0.        , 0.        ,\n",
       "       0.        , 0.        , 0.        , 0.        , 0.        ,\n",
       "       0.        , 0.        , 0.        , 0.        , 0.        ,\n",
       "       0.        , 0.        , 0.00784314, 0.        , 0.15294118,\n",
       "       0.88235295, 1.        , 0.99215686, 1.        , 1.        ,\n",
       "       0.99215686, 1.        , 0.21960784, 0.        , 0.00784314,\n",
       "       0.        , 0.        , 0.        , 0.        , 0.        ,\n",
       "       0.        , 0.        , 0.        , 0.        , 0.        ,\n",
       "       0.        , 0.        , 0.        , 0.        , 0.        ,\n",
       "       0.00392157, 0.01176471, 0.        , 0.6666667 , 1.        ,\n",
       "       0.9843137 , 1.        , 1.        , 0.99215686, 1.        ,\n",
       "       0.5176471 , 0.        , 0.00392157, 0.        , 0.        ,\n",
       "       0.        , 0.        , 0.        , 0.        , 0.        ,\n",
       "       0.        , 0.        , 0.        , 0.        , 0.        ,\n",
       "       0.        , 0.        , 0.        , 0.        , 0.01568628,\n",
       "       0.        , 0.41568628, 1.        , 0.99607843, 0.99607843,\n",
       "       1.        , 0.99607843, 1.        , 0.85490197, 0.01176471,\n",
       "       0.        , 0.        , 0.        , 0.        , 0.        ,\n",
       "       0.        , 0.        , 0.        , 0.        , 0.        ,\n",
       "       0.        , 0.        , 0.        , 0.        , 0.        ,\n",
       "       0.00392157, 0.01176471, 0.01960784, 0.        , 0.20392157,\n",
       "       0.93333334, 1.        , 0.99607843, 1.        , 1.        ,\n",
       "       1.        , 0.98039216, 0.23137255, 0.        , 0.00392157,\n",
       "       0.        , 0.        , 0.        , 0.        , 0.        ,\n",
       "       0.        , 0.        , 0.        , 0.00392157, 0.00784314,\n",
       "       0.01568628, 0.01176471, 0.00392157, 0.        , 0.        ,\n",
       "       0.        , 0.00784314, 0.        , 0.8352941 , 1.        ,\n",
       "       0.99215686, 1.        , 1.        , 0.99215686, 1.        ,\n",
       "       0.5803922 , 0.        , 0.01568628, 0.        , 0.        ,\n",
       "       0.        , 0.        , 0.        , 0.00392157, 0.01176471,\n",
       "       0.01176471, 0.        , 0.        , 0.        , 0.        ,\n",
       "       0.00392157, 0.08235294, 0.2       , 0.31764707, 0.41960785,\n",
       "       0.43529412, 0.8666667 , 1.        , 0.99607843, 1.        ,\n",
       "       1.        , 0.9882353 , 1.        , 0.80784315, 0.01960784,\n",
       "       0.        , 0.        , 0.        , 0.        , 0.00392157,\n",
       "       0.01176471, 0.        , 0.        , 0.        , 0.01568628,\n",
       "       0.16862746, 0.3764706 , 0.5803922 , 0.7764706 , 0.92941177,\n",
       "       1.        , 1.        , 1.        , 1.        , 1.        ,\n",
       "       1.        , 0.99607843, 1.        , 1.        , 0.99607843,\n",
       "       1.        , 0.96862745, 0.28235295, 0.        , 0.        ,\n",
       "       0.00392157, 0.01568628, 0.00392157, 0.        , 0.03529412,\n",
       "       0.24705882, 0.5568628 , 0.8235294 , 0.98039216, 1.        ,\n",
       "       1.        , 1.        , 1.        , 1.        , 0.99607843,\n",
       "       1.        , 0.9411765 , 0.8235294 , 0.87058824, 1.        ,\n",
       "       0.99607843, 1.        , 1.        , 0.98039216, 1.        ,\n",
       "       0.52156866, 0.        , 0.00784314, 0.00784314, 0.        ,\n",
       "       0.05882353, 0.48235294, 0.85882354, 0.99607843, 1.        ,\n",
       "       1.        , 0.99607843, 0.9764706 , 0.98039216, 0.99607843,\n",
       "       1.        , 0.95686275, 0.70980394, 0.38431373, 0.12156863,\n",
       "       0.        , 0.07450981, 0.7921569 , 1.        , 0.9882353 ,\n",
       "       1.        , 0.9882353 , 1.        , 0.76862746, 0.07058824,\n",
       "       0.        , 0.03921569, 0.41960785, 0.88235295, 1.        ,\n",
       "       0.99607843, 0.99607843, 0.9882353 , 0.9843137 , 0.9882353 ,\n",
       "       1.        , 1.        , 0.84313726, 0.4862745 , 0.12941177,\n",
       "       0.        , 0.        , 0.        , 0.01960784, 0.        ,\n",
       "       0.4862745 , 1.        , 0.9882353 , 1.        , 0.99607843,\n",
       "       1.        , 0.9647059 , 0.18039216, 0.2901961 , 0.8392157 ,\n",
       "       1.        , 0.99607843, 0.9882353 , 0.99215686, 1.        ,\n",
       "       1.        , 1.        , 1.        , 0.7921569 , 0.32156864,\n",
       "       0.02745098, 0.        , 0.        , 0.00784314, 0.01568628,\n",
       "       0.00784314, 0.01568628, 0.        , 0.30588236, 0.972549  ,\n",
       "       1.        , 0.99607843, 1.        , 0.9882353 , 1.        ,\n",
       "       0.32941177, 0.98039216, 1.        , 0.9882353 , 0.99215686,\n",
       "       1.        , 1.        , 0.99607843, 1.        , 0.8509804 ,\n",
       "       0.29803923, 0.00392157, 0.        , 0.00392157, 0.02352941,\n",
       "       0.01960784, 0.01568628, 0.01568628, 0.01568628, 0.02745098,\n",
       "       0.        , 0.29411766, 0.96862745, 1.        , 0.99607843,\n",
       "       1.        , 0.99215686, 1.        , 0.5372549 , 0.93333334,\n",
       "       1.        , 0.99215686, 0.9843137 , 0.99607843, 1.        ,\n",
       "       0.9882353 , 1.        , 0.5803922 , 0.0627451 , 0.03529412,\n",
       "       0.00392157, 0.        , 0.        , 0.        , 0.        ,\n",
       "       0.        , 0.00392157, 0.00784314, 0.        , 0.5764706 ,\n",
       "       1.        , 0.9882353 , 1.        , 1.        , 0.99607843,\n",
       "       1.        , 0.70980394, 0.1764706 , 0.6784314 , 0.99215686,\n",
       "       1.        , 1.        , 0.9882353 , 0.9882353 , 0.99215686,\n",
       "       1.        , 0.96862745, 0.8784314 , 0.79607844, 0.6901961 ,\n",
       "       0.61960787, 0.5686275 , 0.5137255 , 0.4745098 , 0.45882353,\n",
       "       0.4862745 , 0.7294118 , 0.99215686, 1.        , 1.        ,\n",
       "       1.        , 1.        , 0.99607843, 1.        , 0.8666667 ,\n",
       "       0.        , 0.        , 0.21568628, 0.63529414, 0.9411765 ,\n",
       "       1.        , 0.99607843, 1.        , 1.        , 1.        ,\n",
       "       1.        , 1.        , 1.        , 1.        , 1.        ,\n",
       "       1.        , 1.        , 1.        , 1.        , 1.        ,\n",
       "       0.99607843, 1.        , 1.        , 0.99607843, 0.99607843,\n",
       "       0.9843137 , 1.        , 0.81960785, 0.01176471, 0.00784314,\n",
       "       0.        , 0.        , 0.09019608, 0.36078432, 0.6431373 ,\n",
       "       0.8392157 , 0.96862745, 1.        , 1.        , 1.        ,\n",
       "       1.        , 1.        , 1.        , 1.        , 0.99607843,\n",
       "       0.9882353 , 0.9843137 , 0.99215686, 1.        , 1.        ,\n",
       "       1.        , 1.        , 1.        , 0.99607843, 1.        ,\n",
       "       0.3882353 , 0.        , 0.        , 0.01176471, 0.01176471,\n",
       "       0.        , 0.00392157, 0.        , 0.03137255, 0.16862746,\n",
       "       0.28235295, 0.41960785, 0.5686275 , 0.7019608 , 0.8039216 ,\n",
       "       0.84313726, 0.8784314 , 0.9137255 , 0.9490196 , 0.9882353 ,\n",
       "       1.        , 0.99215686, 0.9843137 , 0.9647059 , 0.9254902 ,\n",
       "       0.84705883, 0.6862745 , 0.29411766, 0.        ], dtype=float32)"
      ]
     },
     "execution_count": 1,
     "metadata": {},
     "output_type": "execute_result"
    }
   ],
   "source": [
    "%matplotlib inline\n",
    "import matplotlib.pyplot as plt\n",
    "import pandas as pd\n",
    "import numpy as np\n",
    "from scipy.io import loadmat\n",
    "from sklearn.model_selection import train_test_split\n",
    "from sklearn import preprocessing\n",
    "from sklearn.preprocessing import OneHotEncoder\n",
    "\n",
    "data = loadmat('notMNIST_small.mat')\n",
    "X_temp = data['images']/255\n",
    "\n",
    "#for i in range(X_temp.shape[2]):\n",
    "    \n",
    "X = np.empty(shape=[X_temp.shape[2]] + [784], dtype='float32')\n",
    "for i in range(X_temp.shape[2]):\n",
    "    X[i,:] = X_temp[:,:,i].flatten()\n",
    "\n",
    "y = pd.get_dummies(data['labels']).to_numpy()\n",
    "\n",
    "print(X_temp.shape)\n",
    "print(X.shape)\n",
    "print(y.shape)\n",
    "X[1,:]"
   ]
  },
  {
   "cell_type": "code",
   "execution_count": 2,
   "id": "9d499d36",
   "metadata": {},
   "outputs": [
    {
     "name": "stdout",
     "output_type": "stream",
     "text": [
      "(28, 28)\n"
     ]
    },
    {
     "data": {
      "image/png": "[encoded data removed]",
      "text/plain": [
       "<Figure size 432x288 with 1 Axes>"
      ]
     },
     "metadata": {
      "needs_background": "light"
     },
     "output_type": "display_data"
    }
   ],
   "source": [
    "print(X_temp[:,:,3].shape)\n",
    "plt.imshow(X_temp[:,:,3],cmap=\"gray\");"
   ]
  },
  {
   "cell_type": "code",
   "execution_count": 3,
   "id": "4668f581",
   "metadata": {},
   "outputs": [
    {
     "data": {
      "image/png": "[encoded data removed]",
      "text/plain": [
       "<Figure size 432x288 with 1 Axes>"
      ]
     },
     "metadata": {
      "needs_background": "light"
     },
     "output_type": "display_data"
    }
   ],
   "source": [
    "plt.imshow(X_temp[:,:,4504],cmap=\"gray\");"
   ]
  },
  {
   "cell_type": "code",
   "execution_count": 4,
   "id": "f3c024d4",
   "metadata": {},
   "outputs": [
    {
     "name": "stdout",
     "output_type": "stream",
     "text": [
      "(14979, 784)\n",
      "(14979, 10)\n"
     ]
    }
   ],
   "source": [
    "X_train, X_test, y_train, y_test = train_test_split(\n",
    "    X, y, test_size=0.2, random_state=50)\n",
    "\n",
    "X_train = X_train.reshape(-1, 28*28)\n",
    "\n",
    "print(X_train.shape)\n",
    "print(y_train.shape)"
   ]
  },
  {
   "cell_type": "code",
   "execution_count": 5,
   "id": "559b1644",
   "metadata": {},
   "outputs": [],
   "source": [
    "stdscaler = preprocessing.StandardScaler().fit(X_train)\n",
    "X_train_scaled = stdscaler.transform(X_train)\n",
    "X_test_scaled  = stdscaler.transform(X_test)"
   ]
  },
  {
   "cell_type": "code",
   "execution_count": 53,
   "id": "05659244",
   "metadata": {},
   "outputs": [],
   "source": [
    "from tensorflow.keras.models import Sequential\n",
    "from tensorflow.keras.layers import Dense\n",
    "from tensorflow.keras.regularizers import l2, l1\n",
    "from tensorflow.keras.optimizers import SGD\n",
    "\n",
    "# Stochastic Logistic Regression\n",
    "model = Sequential()\n",
    "\n",
    "# Model\n",
    "model.add(Dense(units=10, input_shape=[784], \n",
    "                activation='relu',kernel_regularizer=l2(0.01)))\n",
    "\n",
    "model.add(Dense(units=10, input_shape=[784], \n",
    "                activation='sigmoid',kernel_regularizer=l2(0.01)))\n",
    "\n",
    "# Compile model\n",
    "sgd = SGD(learning_rate=0.1)\n",
    "model.compile(loss='categorical_crossentropy', optimizer=sgd)"
   ]
  },
  {
   "cell_type": "code",
   "execution_count": 54,
   "id": "511fcb93",
   "metadata": {},
   "outputs": [
    {
     "name": "stdout",
     "output_type": "stream",
     "text": [
      "Model: \"sequential_13\"\n",
      "_________________________________________________________________\n",
      " Layer (type)                Output Shape              Param #   \n",
      "=================================================================\n",
      " dense_24 (Dense)            (None, 10)                7850      \n",
      "                                                                 \n",
      " dense_25 (Dense)            (None, 10)                110       \n",
      "                                                                 \n",
      "=================================================================\n",
      "Total params: 7,960\n",
      "Trainable params: 7,960\n",
      "Non-trainable params: 0\n",
      "_________________________________________________________________\n"
     ]
    }
   ],
   "source": [
    "model.summary()"
   ]
  },
  {
   "cell_type": "code",
   "execution_count": 55,
   "id": "999764e6",
   "metadata": {},
   "outputs": [],
   "source": [
    "# Fit the model\n",
    "history = model.fit(X_train_scaled, y_train, batch_size = 256,\n",
    "          epochs = 100, verbose=0, validation_data=(X_test_scaled,y_test))"
   ]
  },
  {
   "cell_type": "code",
   "execution_count": 56,
   "id": "2ad535a6",
   "metadata": {},
   "outputs": [
    {
     "name": "stdout",
     "output_type": "stream",
     "text": [
      "Loss after final iteration:  0.5038667917251587\n"
     ]
    },
    {
     "data": {
      "image/png": "[encoded data removed]",
      "text/plain": [
       "<Figure size 432x288 with 1 Axes>"
      ]
     },
     "metadata": {
      "needs_background": "light"
     },
     "output_type": "display_data"
    }
   ],
   "source": [
    "%matplotlib inline\n",
    "import matplotlib.pyplot as plt\n",
    "fig = plt.figure(figsize=(6,4))\n",
    "# # summarize history for loss\n",
    "plt.plot(history.history['loss'])\n",
    "plt.plot(history.history['val_loss'], 'g--')\n",
    "plt.title('Neural Network Model Loss')\n",
    "plt.ylabel('categorical_crossentropy Loss')\n",
    "plt.xlabel('Epoch')\n",
    "plt.legend(['Training Loss', 'Testing Loss'], loc='upper right')\n",
    "print(\"Loss after final iteration: \", history.history['val_loss'][-1])\n",
    "plt.show()"
   ]
  },
  {
   "cell_type": "code",
   "execution_count": null,
   "id": "8563faf4",
   "metadata": {},
   "outputs": [],
   "source": []
  }
 ],
 "metadata": {
  "kernelspec": {
   "display_name": "Python 3 (ipykernel)",
   "language": "python",
   "name": "python3"
  },
  "language_info": {
   "codemirror_mode": {
    "name": "ipython",
    "version": 3
   },
   "file_extension": ".py",
   "mimetype": "text/x-python",
   "name": "python",
   "nbconvert_exporter": "python",
   "pygments_lexer": "ipython3",
   "version": "3.10.7"
  }
 },
 "nbformat": 4,
 "nbformat_minor": 5
}
